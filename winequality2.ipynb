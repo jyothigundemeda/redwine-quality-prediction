{
  "cells": [
    {
      "cell_type": "code",
      "execution_count": 5,
      "metadata": {
        "colab": {
          "base_uri": "https://localhost:8080/"
        },
        "id": "_Fbsxet2Hx5H",
        "outputId": "889000e6-70b4-408c-a6a1-7fb5ccaae734"
      },
      "outputs": [
        {
          "name": "stdout",
          "output_type": "stream",
          "text": [
            "Accuracy: 0.7066666666666667\n",
            "Predicted Wine Quality: good\n"
          ]
        }
      ],
      "source": [
        "import pandas as pd\n",
        "import numpy as np\n",
        "from sklearn.linear_model import LogisticRegression\n",
        "import pickle\n",
        "from sklearn.model_selection import train_test_split\n",
        "from sklearn.preprocessing import LabelEncoder\n",
        "from sklearn.metrics import accuracy_score\n",
        "\n",
        "# Load the dataset from CSV\n",
        "df = pd.read_csv('winequality-red.csv')\n",
        "\n",
        "# Define \"good\" and \"bad\" quality\n",
        "threshold = 6  # Define the quality threshold\n",
        "\n",
        "# Define the target variable\n",
        "df['quality_label'] = df['quality'].apply(lambda x: 'good' if x >= threshold else 'bad')\n",
        "\n",
        "# Filter the data based on conditions\n",
        "filtered_data = df[(df['pH'] < 5) & (df['alcohol'].between(7, 10))]\n",
        "\n",
        "# Define features and target\n",
        "X = filtered_data[['pH', 'alcohol']]\n",
        "y = filtered_data['quality_label']\n",
        "\n",
        "# Encode the target variable\n",
        "label_encoder = LabelEncoder()\n",
        "y = label_encoder.fit_transform(y)\n",
        "\n",
        "X_train, X_test, y_train, y_test = train_test_split(X, y, test_size=0.2, random_state=42)\n",
        "\n",
        "# Create and fit the logistic regression model\n",
        "model = LogisticRegression()\n",
        "model.fit(X_train, y_train)\n",
        "\n",
        "y_pred = model.predict(X_test)\n",
        "\n",
        "accuracy = accuracy_score(y_test, y_pred)\n",
        "print(f\"Accuracy: {accuracy}\")\n",
        "\n",
        "# Save the model and label encoder using pickle\n",
        "with open('model.pkl', 'wb') as f:\n",
        "    pickle.dump(model, f)\n",
        "\n",
        "with open('label_encoder.pkl', 'wb') as f:\n",
        "    pickle.dump(label_encoder, f)\n",
        "\n",
        "# Load the model and label encoder from pickle\n",
        "with open('model.pkl', 'rb') as f:\n",
        "    loaded_model = pickle.load(f)\n",
        "\n",
        "with open('label_encoder.pkl', 'rb') as f:\n",
        "    loaded_label_encoder = pickle.load(f)\n",
        "\n",
        "# Take user input for wine quality features\n",
        "user_pH = float(input(\"Enter pH value of the wine: \"))\n",
        "user_alcohol = float(input(\"Enter alcohol content of the wine: \"))\n",
        "\n",
        "# Classify wine quality based on conditions\n",
        "if user_pH < 5 and 7 <= user_alcohol <=10 :\n",
        "    predicted_quality = 'good'\n",
        "else:\n",
        "    predicted_quality = 'bad'\n",
        "\n",
        "# Print the predicted wine quality\n",
        "print(\"Predicted Wine Quality:\", predicted_quality)\n"
      ]
    }
  ],
  "metadata": {
    "colab": {
      "provenance": []
    },
    "kernelspec": {
      "display_name": "Python 3",
      "name": "python3"
    },
    "language_info": {
      "codemirror_mode": {
        "name": "ipython",
        "version": 3
      },
      "file_extension": ".py",
      "mimetype": "text/x-python",
      "name": "python",
      "nbconvert_exporter": "python",
      "pygments_lexer": "ipython3",
      "version": "3.11.2"
    }
  },
  "nbformat": 4,
  "nbformat_minor": 0
}
